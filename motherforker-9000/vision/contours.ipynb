{
 "cells": [
  {
   "cell_type": "code",
   "execution_count": null,
   "metadata": {},
   "outputs": [],
   "source": [
    "import cv2\n",
    "from matplotlib import pyplot as plt\n",
    "import numpy as np"
   ]
  },
  {
   "cell_type": "code",
   "execution_count": null,
   "metadata": {},
   "outputs": [],
   "source": [
    "import cv2\n",
    "from matplotlib import pyplot as plt\n",
    "from google.colab.patches import cv2_imshow\n",
    "import numpy as np\n",
    "\n",
    "img = cv2.imread(\"2023-05-02_15-38-53.jpg\")\n",
    "img = cv2.flip(img, -1)\n",
    "img_rgb = cv2.cvtColor(img, cv2.COLOR_BGR2RGB)\n",
    "\n",
    "# Remove top 120 pixels\n",
    "img_rgb = img_rgb[120:,:]\n",
    "\n",
    "# Increase contrast\n",
    "img_rgb = cv2.convertScaleAbs(img_rgb, alpha=1.5, beta=0)\n",
    "\n",
    "edges = cv2.Canny(img_rgb,200,500)\n",
    "contours, hierarchy = cv2.findContours(edges, cv2.RETR_TREE, cv2.CHAIN_APPROX_SIMPLE)\n",
    "largest_contour = max(contours, key=cv2.contourArea)\n",
    "bounding_rect = cv2.boundingRect(largest_contour)\n",
    "\n",
    "\n",
    "# draw a green rectangle to visualize the bounding rect\n",
    "cv2.rectangle(img_rgb, (bounding_rect[0], bounding_rect[1]), \\\n",
    "    (bounding_rect[0]+bounding_rect[2], bounding_rect[1]+bounding_rect[3]), (0,255,0), 2)\n",
    "\n",
    "\n",
    "plt.subplot(1, 1, 1)\n",
    "plt.imshow(img_rgb)\n",
    "plt.show()\n"
   ]
  },
  {
   "cell_type": "code",
   "execution_count": null,
   "metadata": {},
   "outputs": [],
   "source": [
    "# Use the lowest pixel of the edges as the bottom of the object. Calculate distance to the object.\n",
    "bottommost = tuple(edges[edges[:,:,0].argmax()][0])\n",
    "print(\"bottommost:\", bottommost)\n",
    "# Calculate the distance to the object.\n",
    "distance = 8.2 / (np.tan(bottommost[0] * 0.0011 + 0.0001) * 2)\n",
    "\n"
   ]
  }
 ],
 "metadata": {
  "language_info": {
   "name": "python"
  },
  "orig_nbformat": 4
 },
 "nbformat": 4,
 "nbformat_minor": 2
}
