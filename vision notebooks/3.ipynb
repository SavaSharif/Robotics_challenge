{
 "cells": [
  {
   "cell_type": "code",
   "execution_count": null,
   "id": "64283c7d",
   "metadata": {},
   "outputs": [],
   "source": [
    "import cv2\n",
    "from matplotlib import pyplot as plt\n",
    "import numpy as np"
   ]
  },
  {
   "cell_type": "code",
   "execution_count": null,
   "id": "8e59df11",
   "metadata": {},
   "outputs": [],
   "source": [
    "img = cv2.imread(\"110cm.jpg\")\n",
    "img = cv2.flip(img, -1)\n",
    "\n",
    "img_rgb = cv2.cvtColor(img, cv2.COLOR_BGR2RGB)\n",
    "\n",
    "edges = cv2.Canny(img_rgb,200,500)\n",
    "knipknip = edges[50:,:]\n",
    "\n",
    "plt.subplot(1, 1, 1)\n",
    "plt.imshow(img_rgb)\n",
    "plt.show()\n",
    "\n",
    "plt.subplot(1, 1, 1)\n",
    "plt.imshow(knipknip, cmap='gray')\n",
    "plt.show()"
   ]
  },
  {
   "cell_type": "markdown",
   "id": "3c74a966",
   "metadata": {},
   "source": [
    "## 3"
   ]
  },
  {
   "cell_type": "code",
   "execution_count": null,
   "id": "40ed40f8",
   "metadata": {},
   "outputs": [],
   "source": [
    "edgeList = np.argwhere(knipknip)\n",
    "\n",
    "# y_mean = edgeList[:,0].mean() # vertical position is not really relevant\n",
    "x_mean = edgeList[:,1].mean()\n",
    "print(\"Mean x of edges:\", x_mean)\n",
    "\n",
    "if x_mean < 140:\n",
    "    print(\"left\")\n",
    "elif x_mean > 180:\n",
    "    print(\"right\")\n",
    "else:\n",
    "    print(\"gas op die lollie\")"
   ]
  },
  {
   "cell_type": "code",
   "execution_count": null,
   "id": "f8bfd596",
   "metadata": {},
   "outputs": [],
   "source": []
  }
 ],
 "metadata": {
  "kernelspec": {
   "display_name": "Python 3 (ipykernel)",
   "language": "python",
   "name": "python3"
  },
  "language_info": {
   "codemirror_mode": {
    "name": "ipython",
    "version": 3
   },
   "file_extension": ".py",
   "mimetype": "text/x-python",
   "name": "python",
   "nbconvert_exporter": "python",
   "pygments_lexer": "ipython3",
   "version": "3.11.3"
  }
 },
 "nbformat": 4,
 "nbformat_minor": 5
}
