{
 "cells": [
  {
   "cell_type": "code",
   "execution_count": null,
   "id": "64283c7d",
   "metadata": {},
   "outputs": [],
   "source": [
    "import cv2\n",
    "from matplotlib import pyplot as plt\n",
    "import numpy as np"
   ]
  },
  {
   "cell_type": "code",
   "execution_count": null,
   "id": "0d9806e3",
   "metadata": {},
   "outputs": [],
   "source": [
    "img = cv2.imread(\"110cm.jpg\")\n",
    "img = cv2.flip(img, -1)\n",
    "\n",
    "img_rgb = cv2.cvtColor(img, cv2.COLOR_BGR2RGB)\n",
    "\n",
    "edges = cv2.Canny(img_rgb,200,500)\n",
    "knipknip = edges[50:,:]\n",
    "\n",
    "plt.subplot(1, 1, 1)\n",
    "plt.imshow(img_rgb)\n",
    "plt.show()\n",
    "\n",
    "plt.subplot(1, 1, 1)\n",
    "plt.imshow(knipknip, cmap='gray')\n",
    "plt.show()"
   ]
  },
  {
   "cell_type": "markdown",
   "id": "3c74a966",
   "metadata": {},
   "source": [
    "## 1"
   ]
  },
  {
   "cell_type": "code",
   "execution_count": null,
   "id": "40ed40f8",
   "metadata": {},
   "outputs": [],
   "source": [
    "y = max(np.where(knipknip == 255)[0])\n",
    "print(\"lowest edge pixel:\", y)\n",
    "# 92 = 110 cm\n",
    "# 96 = 90 cm\n",
    "if y < 92:\n",
    "    print(\"110 cm\")\n",
    "elif y > 96:\n",
    "    print(\"90 cm\")\n",
    "else:\n",
    "    d = 90 + 20 * (96 - y)/4\n",
    "    print(int(d), \"cm\")"
   ]
  }
 ],
 "metadata": {
  "kernelspec": {
   "display_name": "Python 3 (ipykernel)",
   "language": "python",
   "name": "python3"
  },
  "language_info": {
   "codemirror_mode": {
    "name": "ipython",
    "version": 3
   },
   "file_extension": ".py",
   "mimetype": "text/x-python",
   "name": "python",
   "nbconvert_exporter": "python",
   "pygments_lexer": "ipython3",
   "version": "3.11.3"
  }
 },
 "nbformat": 4,
 "nbformat_minor": 5
}
